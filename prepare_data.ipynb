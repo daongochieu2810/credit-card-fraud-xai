{
 "cells": [
  {
   "cell_type": "code",
   "execution_count": 26,
   "metadata": {},
   "outputs": [],
   "source": [
    "import os\n",
    "import random\n",
    "import numpy as np\n",
    "import torch\n",
    "from torch_geometric.data import HeteroData\n",
    "from neo4j import GraphDatabase\n",
    "\n",
    "# set seed\n",
    "seed = 2023\n",
    "random.seed(seed)\n",
    "np.random.seed(seed)\n",
    "torch.manual_seed(seed)\n",
    "os.environ[\"PYTHONHASHSEED\"] = str(seed)\n",
    "DATA_PATH = \"./data\"\n",
    "\n",
    "URI = \"neo4j://localhost\"\n",
    "AUTH = (\"neo4j\", \"password\")"
   ]
  },
  {
   "cell_type": "code",
   "execution_count": 27,
   "metadata": {},
   "outputs": [],
   "source": [
    "with GraphDatabase.driver(URI, auth=AUTH) as driver:\n",
    "    driver.verify_connectivity()\n",
    "\n",
    "data = HeteroData()"
   ]
  },
  {
   "cell_type": "code",
   "execution_count": 28,
   "metadata": {},
   "outputs": [],
   "source": [
    "transaction_index_mappings = {}\n",
    "account_index_mappings = {}\n",
    "user_index_mappings = {}\n",
    "country_index_mappings = {}\n",
    "lob_index_mappings = {}\n",
    "sector_index_mappings = {}\n",
    "\n",
    "lookup_data = {}"
   ]
  },
  {
   "cell_type": "code",
   "execution_count": 29,
   "metadata": {},
   "outputs": [],
   "source": [
    "def construct_nodes(transactions, users, accounts, countries, lobs, sectors):\n",
    "    data['transaction'].y = []\n",
    "    for index, t in enumerate(transactions):\n",
    "        data['transaction'].y.append(int(t[0]['isFraud']))\n",
    "        transaction_index_mappings[t[0]['id']] = index\n",
    "    data['transaction'].node_id = torch.arange(len(transaction_index_mappings.keys())).cuda()\n",
    "    data['transaction'].y = torch.from_numpy(np.array(data['transaction'].y)).cuda()\n",
    "\n",
    "    for index, t in enumerate(users):\n",
    "        user_index_mappings[t[0]['id']] = index\n",
    "    data['user'].node_id = torch.arange(len(user_index_mappings.keys())).cuda()\n",
    "\n",
    "    for index, t in enumerate(accounts):\n",
    "        account_index_mappings[t[0]['id']] = index\n",
    "    data['account'].node_id = torch.arange(len(account_index_mappings.keys())).cuda()\n",
    "    \n",
    "    for index, t in enumerate(countries):\n",
    "        country_index_mappings[t[0]['name']] = index\n",
    "    data['country'].node_id = torch.arange(len(country_index_mappings.keys())).cuda()\n",
    "    \n",
    "    for index, t in enumerate(lobs):\n",
    "        lob_index_mappings[t[0]['id']] = index\n",
    "    data['lob'].node_id = torch.arange(len(lob_index_mappings.keys())).cuda()\n",
    "\n",
    "    for index, t in enumerate(sectors):\n",
    "        sector_index_mappings[t[0]['id']] = index\n",
    "    data['sector'].node_id = torch.arange(len(sector_index_mappings.keys())).cuda()\n",
    "\n",
    "def fetch_nodes(tx):\n",
    "    transactions = list(tx.run(\"MATCH (n:Transaction) RETURN properties(n)\"))\n",
    "    users = list(tx.run(\"MATCH (n:User) RETURN properties(n)\"))\n",
    "    accounts = list(tx.run(\"MATCH (n:Account) RETURN properties(n)\"))\n",
    "    countries = list(tx.run(\"MATCH (n:Country) RETURN properties(n)\"))\n",
    "    lobs = list(tx.run(\"MATCH (n:Lob) RETURN properties(n)\"))\n",
    "    sectors = list(tx.run(\"MATCH (n:Sector) RETURN properties(n)\"))\n",
    "\n",
    "    lookup_data['transactions'] = transactions\n",
    "    lookup_data['users'] = users\n",
    "    lookup_data['accounts'] = accounts\n",
    "    lookup_data['countries'] = countries\n",
    "    lookup_data['lobs'] = lobs\n",
    "    lookup_data['sectors'] = sectors\n",
    "\n",
    "    construct_nodes(transactions, users, accounts, countries, lobs, sectors)"
   ]
  },
  {
   "cell_type": "code",
   "execution_count": 30,
   "metadata": {},
   "outputs": [],
   "source": [
    "with driver.session() as session:\n",
    "    session.execute_read(fetch_nodes)"
   ]
  },
  {
   "cell_type": "code",
   "execution_count": 31,
   "metadata": {},
   "outputs": [],
   "source": [
    "def construct_edges(belongs_to, received_by, transferred_by, from_country, lob_in, works_in):\n",
    "    data['account', 'belongs_to', 'user'].edge_index = torch.from_numpy(np.array([[account_index_mappings[r[0]['account_id']] for r in belongs_to], [user_index_mappings[r[0]['user_id']] for r in belongs_to]])).cuda()\n",
    "    data['account', 'from', 'country'].edge_index = torch.from_numpy(np.array([[account_index_mappings[r[0]['account_id']] for r in from_country], [country_index_mappings[r[0]['country']] for r in from_country]])).cuda()\n",
    "    data['account', 'lob_in', 'lob'].edge_index = torch.from_numpy(np.array([[account_index_mappings[r[0]['account_id']] for r in lob_in], [lob_index_mappings[r[0]['lob_name']] for r in lob_in]])).cuda()\n",
    "    data['transaction', 'received_by', 'account'].edge_index = torch.from_numpy(np.array([[transaction_index_mappings[r[0]['txn_id']] for r in received_by], [account_index_mappings[r[0]['account_id']] for r in received_by]])).cuda()\n",
    "    data['transaction', 'transferred_by', 'account'].edge_index = torch.from_numpy(np.array([[transaction_index_mappings[r[0]['txn_id']] for r in transferred_by], [account_index_mappings[r[0]['account_id']] for r in transferred_by]])).cuda()\n",
    "    data['account', 'works_in', 'sector'].edge_index = torch.from_numpy(np.array([[account_index_mappings[r[0]['account_id']] for r in works_in], [sector_index_mappings[r[0]['sector_id']] for r in works_in]])).cuda()\n",
    "    \n",
    "def fetch_edges(tx):\n",
    "    belongs_to = list(tx.run(f\"MATCH ()-[r:BELONGS_TO]->() RETURN properties(r)\"))\n",
    "    from_country = list(tx.run(\"MATCH ()-[r:FROM]->() RETURN r\"))\n",
    "    lob_in = list(tx.run(\"MATCH ()-[r:LOB_IN]->() RETURN r\"))\n",
    "    received_by = list(tx.run(f\"MATCH ()-[r:RECEIVED_BY]->() RETURN properties(r)\"))\n",
    "    transferred_by = list(tx.run(f\"MATCH ()-[r:TRANSFERRED_BY]->() RETURN properties(r)\"))\n",
    "    works_in = list(tx.run(\"MATCH ()-[r:WORKS_IN]->() RETURN r\"))\n",
    "    construct_edges(belongs_to, received_by, transferred_by, from_country, lob_in, works_in)"
   ]
  },
  {
   "cell_type": "code",
   "execution_count": 32,
   "metadata": {},
   "outputs": [
    {
     "name": "stdout",
     "output_type": "stream",
     "text": [
      "HeteroData(\n",
      "  \u001b[1mtransaction\u001b[0m={\n",
      "    y=[1498177],\n",
      "    node_id=[1498177]\n",
      "  },\n",
      "  \u001b[1muser\u001b[0m={ node_id=[288867] },\n",
      "  \u001b[1maccount\u001b[0m={ node_id=[305429] },\n",
      "  \u001b[1mcountry\u001b[0m={ node_id=[252] },\n",
      "  \u001b[1mlob\u001b[0m={ node_id=[1] },\n",
      "  \u001b[1msector\u001b[0m={ node_id=[50000] },\n",
      "  \u001b[1m(account, belongs_to, user)\u001b[0m={ edge_index=[2, 305429] },\n",
      "  \u001b[1m(account, from, country)\u001b[0m={ edge_index=[2, 75161] },\n",
      "  \u001b[1m(account, lob_in, lob)\u001b[0m={ edge_index=[2, 75161] },\n",
      "  \u001b[1m(transaction, received_by, account)\u001b[0m={ edge_index=[2, 1282284] },\n",
      "  \u001b[1m(transaction, transferred_by, account)\u001b[0m={ edge_index=[2, 1279291] },\n",
      "  \u001b[1m(account, works_in, sector)\u001b[0m={ edge_index=[2, 1278723] }\n",
      ")\n"
     ]
    }
   ],
   "source": [
    "with driver.session() as session:\n",
    "    session.execute_read(fetch_edges)\n",
    "\n",
    "print(data)"
   ]
  },
  {
   "cell_type": "code",
   "execution_count": 33,
   "metadata": {},
   "outputs": [
    {
     "name": "stdout",
     "output_type": "stream",
     "text": [
      "HeteroData(\n",
      "  \u001b[1mtransaction\u001b[0m={\n",
      "    y=[1498177],\n",
      "    node_id=[1498177]\n",
      "  },\n",
      "  \u001b[1muser\u001b[0m={ node_id=[288867] },\n",
      "  \u001b[1maccount\u001b[0m={ node_id=[305429] },\n",
      "  \u001b[1mcountry\u001b[0m={ node_id=[252] },\n",
      "  \u001b[1mlob\u001b[0m={ node_id=[1] },\n",
      "  \u001b[1msector\u001b[0m={ node_id=[50000] },\n",
      "  \u001b[1m(account, belongs_to, user)\u001b[0m={ edge_index=[2, 305429] },\n",
      "  \u001b[1m(account, from, country)\u001b[0m={ edge_index=[2, 75161] },\n",
      "  \u001b[1m(account, lob_in, lob)\u001b[0m={ edge_index=[2, 75161] },\n",
      "  \u001b[1m(transaction, received_by, account)\u001b[0m={ edge_index=[2, 1282284] },\n",
      "  \u001b[1m(transaction, transferred_by, account)\u001b[0m={ edge_index=[2, 1279291] },\n",
      "  \u001b[1m(account, works_in, sector)\u001b[0m={ edge_index=[2, 1278723] },\n",
      "  \u001b[1m(user, rev_belongs_to, account)\u001b[0m={ edge_index=[2, 305429] },\n",
      "  \u001b[1m(country, rev_from, account)\u001b[0m={ edge_index=[2, 75161] },\n",
      "  \u001b[1m(lob, rev_lob_in, account)\u001b[0m={ edge_index=[2, 75161] },\n",
      "  \u001b[1m(account, rev_received_by, transaction)\u001b[0m={ edge_index=[2, 1282284] },\n",
      "  \u001b[1m(account, rev_transferred_by, transaction)\u001b[0m={ edge_index=[2, 1279291] },\n",
      "  \u001b[1m(sector, rev_works_in, account)\u001b[0m={ edge_index=[2, 1278723] }\n",
      ")\n"
     ]
    }
   ],
   "source": [
    "import torch_geometric.transforms as T\n",
    "\n",
    "data = T.ToUndirected()(data)\n",
    "\n",
    "print(data)"
   ]
  },
  {
   "cell_type": "code",
   "execution_count": 48,
   "metadata": {},
   "outputs": [],
   "source": [
    "data = data.to('cuda:0')\n",
    "del data[\"transaction\", \"rev_received_by\", \"account\"]"
   ]
  },
  {
   "cell_type": "code",
   "execution_count": 49,
   "metadata": {},
   "outputs": [
    {
     "data": {
      "text/plain": [
       "HeteroData(\n",
       "  \u001b[1mtransaction\u001b[0m={\n",
       "    y=[1498177],\n",
       "    node_id=[1498177]\n",
       "  },\n",
       "  \u001b[1muser\u001b[0m={ node_id=[288867] },\n",
       "  \u001b[1maccount\u001b[0m={ node_id=[305429] },\n",
       "  \u001b[1mcountry\u001b[0m={ node_id=[252] },\n",
       "  \u001b[1mlob\u001b[0m={ node_id=[1] },\n",
       "  \u001b[1msector\u001b[0m={ node_id=[50000] },\n",
       "  \u001b[1m(account, belongs_to, user)\u001b[0m={ edge_index=[2, 305429] },\n",
       "  \u001b[1m(account, from, country)\u001b[0m={ edge_index=[2, 75161] },\n",
       "  \u001b[1m(account, lob_in, lob)\u001b[0m={ edge_index=[2, 75161] },\n",
       "  \u001b[1m(transaction, received_by, account)\u001b[0m={ edge_index=[2, 1282284] },\n",
       "  \u001b[1m(transaction, transferred_by, account)\u001b[0m={ edge_index=[2, 1279291] },\n",
       "  \u001b[1m(account, works_in, sector)\u001b[0m={ edge_index=[2, 1278723] },\n",
       "  \u001b[1m(user, rev_belongs_to, account)\u001b[0m={ edge_index=[2, 305429] },\n",
       "  \u001b[1m(country, rev_from, account)\u001b[0m={ edge_index=[2, 75161] },\n",
       "  \u001b[1m(lob, rev_lob_in, account)\u001b[0m={ edge_index=[2, 75161] },\n",
       "  \u001b[1m(account, rev_received_by, transaction)\u001b[0m={ edge_index=[2, 1282284] },\n",
       "  \u001b[1m(account, rev_transferred_by, transaction)\u001b[0m={ edge_index=[2, 1279291] },\n",
       "  \u001b[1m(sector, rev_works_in, account)\u001b[0m={ edge_index=[2, 1278723] }\n",
       ")"
      ]
     },
     "execution_count": 49,
     "metadata": {},
     "output_type": "execute_result"
    }
   ],
   "source": [
    "data"
   ]
  },
  {
   "cell_type": "code",
   "execution_count": 63,
   "metadata": {},
   "outputs": [
    {
     "name": "stdout",
     "output_type": "stream",
     "text": [
      "Training data:\n",
      "==============\n",
      "HeteroData(\n",
      "  \u001b[1mtransaction\u001b[0m={\n",
      "    y=[1498177],\n",
      "    node_id=[1498177]\n",
      "  },\n",
      "  \u001b[1muser\u001b[0m={ node_id=[288867] },\n",
      "  \u001b[1maccount\u001b[0m={ node_id=[305429] },\n",
      "  \u001b[1mcountry\u001b[0m={ node_id=[252] },\n",
      "  \u001b[1mlob\u001b[0m={ node_id=[1] },\n",
      "  \u001b[1msector\u001b[0m={ node_id=[50000] },\n",
      "  \u001b[1m(account, belongs_to, user)\u001b[0m={ edge_index=[2, 305429] },\n",
      "  \u001b[1m(account, from, country)\u001b[0m={ edge_index=[2, 75161] },\n",
      "  \u001b[1m(account, lob_in, lob)\u001b[0m={ edge_index=[2, 75161] },\n",
      "  \u001b[1m(transaction, received_by, account)\u001b[0m={\n",
      "    edge_index=[2, 718080],\n",
      "    edge_label=[307748],\n",
      "    edge_label_index=[2, 307748]\n",
      "  },\n",
      "  \u001b[1m(transaction, transferred_by, account)\u001b[0m={ edge_index=[2, 1279291] },\n",
      "  \u001b[1m(account, works_in, sector)\u001b[0m={ edge_index=[2, 1278723] },\n",
      "  \u001b[1m(user, rev_belongs_to, account)\u001b[0m={ edge_index=[2, 305429] },\n",
      "  \u001b[1m(country, rev_from, account)\u001b[0m={ edge_index=[2, 75161] },\n",
      "  \u001b[1m(lob, rev_lob_in, account)\u001b[0m={ edge_index=[2, 75161] },\n",
      "  \u001b[1m(account, rev_received_by, transaction)\u001b[0m={ edge_index=[2, 718080] },\n",
      "  \u001b[1m(account, rev_transferred_by, transaction)\u001b[0m={ edge_index=[2, 1279291] },\n",
      "  \u001b[1m(sector, rev_works_in, account)\u001b[0m={ edge_index=[2, 1278723] }\n",
      ")\n"
     ]
    }
   ],
   "source": [
    "from torch_geometric.transforms import RandomLinkSplit\n",
    "\n",
    "transform = RandomLinkSplit(\n",
    "    num_val=0.1,\n",
    "    num_test=0.1,\n",
    "    disjoint_train_ratio=0.3,\n",
    "    neg_sampling_ratio=2.0,\n",
    "    add_negative_train_samples=False,\n",
    "    edge_types=(\"transaction\", \"received_by\", \"account\"),\n",
    "    rev_edge_types=(\"account\", \"rev_received_by\", \"transaction\"), \n",
    ")\n",
    "\n",
    "train_data, val_data, test_data = transform(data)\n",
    "\n",
    "print(\"Training data:\")\n",
    "print(\"==============\")\n",
    "print(train_data)"
   ]
  },
  {
   "cell_type": "code",
   "execution_count": 55,
   "metadata": {},
   "outputs": [],
   "source": [
    "train_data = train_data.to('cuda:0')\n",
    "test_data = test_data.to('cuda:0')\n",
    "val_data = val_data.to('cuda:0')"
   ]
  },
  {
   "cell_type": "code",
   "execution_count": 88,
   "metadata": {},
   "outputs": [
    {
     "data": {
      "text/plain": [
       "(['transaction', 'user', 'account', 'country', 'lob', 'sector'],\n",
       " [('account', 'belongs_to', 'user'),\n",
       "  ('account', 'from', 'country'),\n",
       "  ('account', 'lob_in', 'lob'),\n",
       "  ('transaction', 'received_by', 'account'),\n",
       "  ('transaction', 'transferred_by', 'account'),\n",
       "  ('account', 'works_in', 'sector'),\n",
       "  ('user', 'rev_belongs_to', 'account'),\n",
       "  ('country', 'rev_from', 'account'),\n",
       "  ('lob', 'rev_lob_in', 'account'),\n",
       "  ('account', 'rev_received_by', 'transaction'),\n",
       "  ('account', 'rev_transferred_by', 'transaction'),\n",
       "  ('sector', 'rev_works_in', 'account')])"
      ]
     },
     "execution_count": 88,
     "metadata": {},
     "output_type": "execute_result"
    }
   ],
   "source": [
    "data.metadata()"
   ]
  },
  {
   "cell_type": "code",
   "execution_count": 89,
   "metadata": {},
   "outputs": [
    {
     "name": "stdout",
     "output_type": "stream",
     "text": [
      "Model(\n",
      "  (account_emb): Embedding(305429, 64)\n",
      "  (transaction_emb): Embedding(1498177, 64)\n",
      "  (gnn): GraphModule(\n",
      "    (conv1): ModuleDict(\n",
      "      (transaction__received_by__account): SAGEConv(64, 64, aggr=mean)\n",
      "      (account__rev_received_by__transaction): SAGEConv(64, 64, aggr=mean)\n",
      "    )\n",
      "    (conv2): ModuleDict(\n",
      "      (transaction__received_by__account): SAGEConv(64, 64, aggr=mean)\n",
      "      (account__rev_received_by__transaction): SAGEConv(64, 64, aggr=mean)\n",
      "    )\n",
      "  )\n",
      "  (classifier): Classifier()\n",
      ")\n"
     ]
    }
   ],
   "source": [
    "from torch import Tensor\n",
    "from torch_geometric.nn import SAGEConv, to_hetero\n",
    "import torch.nn.functional as F\n",
    "\n",
    "class GNN(torch.nn.Module):\n",
    "    def __init__(self, hidden_channels):\n",
    "        super().__init__()\n",
    "\n",
    "        self.conv1 = SAGEConv(hidden_channels, hidden_channels)\n",
    "        self.conv2 = SAGEConv(hidden_channels, hidden_channels)\n",
    "\n",
    "    def forward(self, x: Tensor, edge_index: Tensor) -> Tensor:\n",
    "        x = F.relu(self.conv1(x, edge_index))\n",
    "        x = self.conv2(x, edge_index)\n",
    "        return x\n",
    "\n",
    "# Our final classifier applies the dot-product between source and destination\n",
    "# node embeddings to derive edge-level predictions:\n",
    "class Classifier(torch.nn.Module):\n",
    "    def forward(self, x_account: Tensor, x_transaction: Tensor, edge_label_index: Tensor) -> Tensor:\n",
    "        # Convert node embeddings to edge-level representations:\n",
    "        edge_feat_account = x_account[edge_label_index[1]]\n",
    "        edge_feat_transaction = x_transaction[edge_label_index[0]]\n",
    "\n",
    "        # Apply dot-product to get a prediction per supervision edge:\n",
    "        return (edge_feat_account * edge_feat_transaction).sum(dim=-1)\n",
    "\n",
    "\n",
    "class Model(torch.nn.Module):\n",
    "    def __init__(self, hidden_channels):\n",
    "        super().__init__()\n",
    "        # Since the dataset does not come with rich features, we also learn two\n",
    "        # embedding matrices for accounts and transactions:\n",
    "        # self.transaction_lin = torch.nn.Linear(20, hidden_channels)\n",
    "        self.account_emb = torch.nn.Embedding(data[\"account\"].num_nodes, hidden_channels)\n",
    "        self.transaction_emb = torch.nn.Embedding(data[\"transaction\"].num_nodes, hidden_channels)\n",
    "\n",
    "        # Instantiate homogeneous GNN:\n",
    "        self.gnn = GNN(hidden_channels)\n",
    "\n",
    "        # Convert GNN model into a heterogeneous variant:\n",
    "        self.gnn = to_hetero(self.gnn, metadata=(\n",
    "            ['transaction', 'account'],\n",
    "            [('transaction', 'received_by', 'account'),('account', 'rev_received_by', 'transaction')]\n",
    "            )\n",
    "        )\n",
    "\n",
    "        self.classifier = Classifier()\n",
    "\n",
    "    def forward(self, data: HeteroData) -> Tensor:\n",
    "        x_dict = {\n",
    "          \"account\": self.account_emb(data[\"account\"].node_id),\n",
    "          \"transaction\": self.transaction_emb(data[\"transaction\"].node_id)# + self.transaction_lin(data[\"transaction\"].x),\n",
    "        }\n",
    "\n",
    "        # `x_dict` holds feature matrices of all node types\n",
    "        # `edge_index_dict` holds all edge indices of all edge types\n",
    "        x_dict = self.gnn(x_dict, data.edge_index_dict)\n",
    "        pred = self.classifier(\n",
    "            x_dict[\"account\"],\n",
    "            x_dict[\"transaction\"],\n",
    "            data[\"transaction\", \"received_by\", \"account\"].edge_label_index,\n",
    "        )\n",
    "\n",
    "        return pred\n",
    "\n",
    "        \n",
    "model = Model(hidden_channels=64)\n",
    "\n",
    "print(model)"
   ]
  },
  {
   "cell_type": "code",
   "execution_count": 91,
   "metadata": {},
   "outputs": [
    {
     "data": {
      "text/plain": [
       "17181"
      ]
     },
     "execution_count": 91,
     "metadata": {},
     "output_type": "execute_result"
    }
   ],
   "source": [
    "import gc\n",
    "torch.cuda.empty_cache()\n",
    "gc.collect()"
   ]
  },
  {
   "cell_type": "code",
   "execution_count": 92,
   "metadata": {},
   "outputs": [
    {
     "name": "stdout",
     "output_type": "stream",
     "text": [
      "Epoch: 001, Loss: 0.5580\n",
      "Epoch: 002, Loss: 0.3737\n",
      "Epoch: 003, Loss: 0.2478\n",
      "Epoch: 004, Loss: 0.1645\n",
      "Epoch: 005, Loss: 0.1104\n",
      "Epoch: 006, Loss: 0.0755\n",
      "Epoch: 007, Loss: 0.0528\n",
      "Epoch: 008, Loss: 0.0378\n",
      "Epoch: 009, Loss: 0.0276\n"
     ]
    }
   ],
   "source": [
    "import torch.nn.functional as F\n",
    "\n",
    "model = model.to('cuda:0')\n",
    "optimizer = torch.optim.Adam(model.parameters(), lr=0.001)\n",
    "\n",
    "for epoch in range(1, 10):\n",
    "    total_loss = total_examples = 0\n",
    "    optimizer.zero_grad()\n",
    "\n",
    "    pred = model(train_data)\n",
    "\n",
    "    ground_truth = train_data[\"transaction\", \"received_by\", \"account\"].edge_label\n",
    "    loss = F.binary_cross_entropy_with_logits(pred, ground_truth)\n",
    "\n",
    "    loss.backward()\n",
    "    optimizer.step()\n",
    "    total_loss += float(loss) * pred.numel()\n",
    "    total_examples += pred.numel()\n",
    "    print(f\"Epoch: {epoch:03d}, Loss: {total_loss / total_examples:.4f}\")"
   ]
  },
  {
   "cell_type": "code",
   "execution_count": null,
   "metadata": {},
   "outputs": [],
   "source": [
    "driver.close()"
   ]
  }
 ],
 "metadata": {
  "kernelspec": {
   "display_name": "Python 3",
   "language": "python",
   "name": "python3"
  },
  "language_info": {
   "codemirror_mode": {
    "name": "ipython",
    "version": 3
   },
   "file_extension": ".py",
   "mimetype": "text/x-python",
   "name": "python",
   "nbconvert_exporter": "python",
   "pygments_lexer": "ipython3",
   "version": "3.8.10"
  },
  "orig_nbformat": 4,
  "vscode": {
   "interpreter": {
    "hash": "31f2aee4e71d21fbe5cf8b01ff0e069b9275f58929596ceb00d14d90e3e16cd6"
   }
  }
 },
 "nbformat": 4,
 "nbformat_minor": 2
}
