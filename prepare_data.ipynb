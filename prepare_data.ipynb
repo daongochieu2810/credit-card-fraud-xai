{
 "cells": [
  {
   "cell_type": "code",
   "execution_count": 1,
   "metadata": {},
   "outputs": [],
   "source": [
    "import os\n",
    "import random\n",
    "import numpy as np\n",
    "import torch\n",
    "from torch_geometric.data import HeteroData\n",
    "from neo4j import GraphDatabase\n",
    "\n",
    "# set seed\n",
    "seed = 2023\n",
    "random.seed(seed)\n",
    "np.random.seed(seed)\n",
    "torch.manual_seed(seed)\n",
    "os.environ[\"PYTHONHASHSEED\"] = str(seed)\n",
    "DATA_PATH = \"./data\"\n",
    "\n",
    "URI = \"neo4j://localhost\"\n",
    "AUTH = (\"neo4j\", \"password\")"
   ]
  },
  {
   "cell_type": "code",
   "execution_count": 2,
   "metadata": {},
   "outputs": [],
   "source": [
    "with GraphDatabase.driver(URI, auth=AUTH) as driver:\n",
    "    driver.verify_connectivity()\n",
    "\n",
    "data = HeteroData()"
   ]
  },
  {
   "cell_type": "code",
   "execution_count": 18,
   "metadata": {},
   "outputs": [],
   "source": [
    "transaction_index_mappings = {}\n",
    "account_index_mappings = {}\n",
    "user_index_mappings = {}\n",
    "country_index_mappings = {}\n",
    "lob_index_mappings = {}\n",
    "sector_index_mappings = {}"
   ]
  },
  {
   "cell_type": "code",
   "execution_count": 19,
   "metadata": {},
   "outputs": [],
   "source": [
    "def construct_nodes(transactions, users, accounts):#, countries, lobs, sectors):\n",
    "    data['transaction'].x = []\n",
    "    for index, t in enumerate(transactions):\n",
    "        data['transaction'].x.append(list(t[0].values()))\n",
    "        transaction_index_mappings[t[0]['id']] = index\n",
    "\n",
    "    data['user'].x = []\n",
    "    for index, t in enumerate(users):\n",
    "        data['user'].x.append(list(t[0].values()))\n",
    "        user_index_mappings[t[0]['id']] = index\n",
    "\n",
    "    data['account'].x = []\n",
    "    for index, t in enumerate(accounts):\n",
    "        data['account'].x.append(list(t[0].values()))\n",
    "        account_index_mappings[t[0]['id']] = index\n",
    "    \n",
    "    # data['user'].x = [list(t[0].values()) for t in users]\n",
    "    # data['account'].x = [list(t[0].values()) for t in accounts]\n",
    "    # data['country'].x = [list(t[0].values()) for t in countries]\n",
    "    # data['lob'].x = [list(t[0].values()) for t in lobs]\n",
    "    # data['sector'].x = [list(t[0].values()) for t in sectors]\n",
    "\n",
    "def fetch_nodes(tx):\n",
    "    transactions = list(tx.run(\"MATCH (n:Transaction) RETURN properties(n)\"))\n",
    "    users = list(tx.run(\"MATCH (n:User) RETURN properties(n)\"))\n",
    "    accounts = list(tx.run(\"MATCH (n:Account) RETURN properties(n)\"))\n",
    "    # countries = list(tx.run(\"MATCH (n:Country) RETURN properties(n)\"))\n",
    "    # lobs = list(tx.run(\"MATCH (n:Lob) RETURN properties(n)\"))\n",
    "    # sectors = list(tx.run(\"MATCH (n:Sector) RETURN properties(n)\"))\n",
    "\n",
    "    construct_nodes(transactions, users, accounts)#, countries, lobs, sectors)"
   ]
  },
  {
   "cell_type": "code",
   "execution_count": 20,
   "metadata": {},
   "outputs": [],
   "source": [
    "with driver.session() as session:\n",
    "    session.execute_read(fetch_nodes)"
   ]
  },
  {
   "cell_type": "code",
   "execution_count": 21,
   "metadata": {},
   "outputs": [],
   "source": [
    "def construct_edges(belongs_to, received_by, transferred_by):\n",
    "    data['account', 'belongs_to', 'user'].edge_index = [[account_index_mappings[r[0]['account_id']], user_index_mappings[r[0]['user_id']]] for r in belongs_to]\n",
    "    # data['account', 'from', 'country'].edge_index = []#... # [2, num_edges_writes]\n",
    "    # data['account', 'lob_in', 'lob'].edge_index = []#... # [2, num_edges_affiliated]\n",
    "    data['transaction', 'received_by', 'account'].edge_index = [[transaction_index_mappings[r[0]['txn_id']], account_index_mappings[r[0]['account_id']]] for r in received_by]\n",
    "    data['transaction', 'transferred_by', 'account'].edge_index = [[transaction_index_mappings[r[0]['txn_id']], account_index_mappings[r[0]['account_id']]] for r in transferred_by]\n",
    "    # data['account', 'works_in', 'sector'].edge_index = []\n",
    "    \n",
    "def fetch_edges(tx):\n",
    "    belongs_to = list(tx.run(f\"MATCH ()-[r:BELONGS_TO]->() RETURN properties(r)\"))\n",
    "    # from_country = list(tx.run(\"MATCH ()-[r:FROM]->() RETURN r\"))\n",
    "    # lob_in = list(tx.run(\"MATCH ()-[r:LOB_IN]->() RETURN r\"))\n",
    "    received_by = list(tx.run(f\"MATCH ()-[r:RECEIVED_BY]->() RETURN properties(r)\"))\n",
    "    transferred_by = list(tx.run(f\"MATCH ()-[r:TRANSFERRED_BY]->() RETURN properties(r)\"))\n",
    "    # works_in = list(tx.run(\"MATCH ()-[r:WORKS_IN]->() RETURN r\"))\n",
    "    construct_edges(belongs_to, received_by, transferred_by)"
   ]
  },
  {
   "cell_type": "code",
   "execution_count": 22,
   "metadata": {},
   "outputs": [
    {
     "name": "stdout",
     "output_type": "stream",
     "text": [
      "HeteroData(\n",
      "  \u001b[1mtransaction\u001b[0m={ x=[1498177] },\n",
      "  \u001b[1muser\u001b[0m={ x=[288867] },\n",
      "  \u001b[1maccount\u001b[0m={ x=[305429] },\n",
      "  \u001b[1m(account, belongs_to, user)\u001b[0m={ edge_index=[305429] },\n",
      "  \u001b[1m(transaction, received_by, account)\u001b[0m={ edge_index=[1282284] },\n",
      "  \u001b[1m(transaction, transferred_by, account)\u001b[0m={ edge_index=[1279291] }\n",
      ")\n"
     ]
    }
   ],
   "source": [
    "with driver.session() as session:\n",
    "    session.execute_read(fetch_edges)\n",
    "\n",
    "print(data)"
   ]
  },
  {
   "cell_type": "code",
   "execution_count": null,
   "metadata": {},
   "outputs": [],
   "source": []
  },
  {
   "cell_type": "code",
   "execution_count": null,
   "metadata": {},
   "outputs": [],
   "source": [
    "graphs = data[0]\n",
    "labels = data[1]\n",
    "test_graphs = data[2]\n",
    "test_labels = data[3]\n",
    "\n",
    "for i in range(len(graphs)):\n",
    "    graphs[i].graph[\"label\"] = labels[i]\n",
    "for i in range(len(test_graphs)):\n",
    "    test_graphs[i].graph[\"label\"] = test_labels[i]\n",
    "\n",
    "if feat is None:\n",
    "    featgen_const = featgen.ConstFeatureGen(np.ones(args.input_dim, dtype=float))\n",
    "    for G in graphs:\n",
    "        featgen_const.gen_node_features(G)\n",
    "    for G in test_graphs:\n",
    "        featgen_const.gen_node_features(G)\n",
    "\n",
    "train_dataset, test_dataset, max_num_nodes = prepare_data(\n",
    "    graphs, args, test_graphs=test_graphs\n",
    ")\n",
    "model = models.GcnEncoderGraph(\n",
    "    args.input_dim,\n",
    "    args.hidden_dim,\n",
    "    args.output_dim,\n",
    "    args.num_classes,\n",
    "    args.num_gc_layers,\n",
    "    bn=args.bn,\n",
    ").cuda()\n",
    "train(train_dataset, model, args, test_dataset=test_dataset)\n",
    "evaluate(test_dataset, model, args, \"Validation\")"
   ]
  },
  {
   "cell_type": "code",
   "execution_count": null,
   "metadata": {},
   "outputs": [],
   "source": [
    "driver.close()"
   ]
  }
 ],
 "metadata": {
  "kernelspec": {
   "display_name": "Python 3",
   "language": "python",
   "name": "python3"
  },
  "language_info": {
   "codemirror_mode": {
    "name": "ipython",
    "version": 3
   },
   "file_extension": ".py",
   "mimetype": "text/x-python",
   "name": "python",
   "nbconvert_exporter": "python",
   "pygments_lexer": "ipython3",
   "version": "3.8.10"
  },
  "orig_nbformat": 4,
  "vscode": {
   "interpreter": {
    "hash": "31f2aee4e71d21fbe5cf8b01ff0e069b9275f58929596ceb00d14d90e3e16cd6"
   }
  }
 },
 "nbformat": 4,
 "nbformat_minor": 2
}
